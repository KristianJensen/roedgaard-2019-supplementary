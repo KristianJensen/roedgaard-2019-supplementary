{
 "cells": [
  {
   "cell_type": "markdown",
   "metadata": {},
   "source": [
    "# Supporting material for \"An opposite pattern of cognitive performance in autistic individuals with and without alexithymia\""
   ]
  },
  {
   "cell_type": "markdown",
   "metadata": {},
   "source": [
    "The purpose of the present document is to elaborate on the details of the analyses presented in our commentary article \"An opposite pattern of cognitive performance in autistic individuals with and without alexithymia\" and address the criticism presented by Oakley and coworkers in their response.\n",
    "\n",
    "The aim of the analysis is to examine the relationship between alexithymia, measured using the Toronto Alexithymia Scale (TAS), and emotional and cognitive theory of mind, measured using the Reading the Minds in the Eyes Task (RMET) and the Movie for Assessment of Social Cognition (MASC), in individuals with and without autism."
   ]
  },
  {
   "cell_type": "markdown",
   "metadata": {},
   "source": [
    "This was also studied in the original research article by Oakley et al (2016), and thus the specific aim of this analysis is to examine whether the relationships between alexithymia and theory of mind differ between the autistic and non-autistic groups. In other words, to examine the interaction between autism/control group and TAS score, which Oakley et al. (2016) did not do."
   ]
  },
  {
   "cell_type": "code",
   "execution_count": 1,
   "metadata": {
    "collapsed": true
   },
   "outputs": [],
   "source": [
    "import pandas as pd\n",
    "import seaborn as sbn\n",
    "import matplotlib.pyplot as plt\n",
    "from scipy import stats\n",
    "import statsmodels.formula.api as smf\n",
    "from statsmodels.stats.anova import anova_lm\n",
    "\n",
    "%matplotlib inline\n",
    "\n",
    "def summarize_model(model):\n",
    "    res = anova_lm(model, typ=2).round(5)\n",
    "    res[\"coef\"] = model.params\n",
    "    res[\"p\"] = res[\"PR(>F)\"]\n",
    "    res = res[[\"coef\", \"sum_sq\", \"df\", \"p\"]]\n",
    "    return res\n",
    "\n",
    "def plot_correlations():\n",
    "    plt.figure(figsize=[10, 7])\n",
    "    plt.subplot(2, 2, 1)\n",
    "    plt.title(\"ASD group\", fontsize=20)\n",
    "    sbn.regplot(x=\"TAS_Total\", y=\"MASC_Cognitive\", data=asd_df, ci=0)\n",
    "    plt.subplot(2, 2, 2)\n",
    "    plt.title(\"Control group\", fontsize=20)\n",
    "    sbn.regplot(x=\"TAS_Total\", y=\"MASC_Cognitive\", data=ctl_df, ci=0)\n",
    "    plt.subplot(2, 2, 3)\n",
    "    sbn.regplot(x=\"AQ_Total\", y=\"MASC_Cognitive\", data=asd_df, ci=0)\n",
    "    plt.subplot(2, 2, 4)\n",
    "    sbn.regplot(x=\"AQ_Total\", y=\"MASC_Cognitive\", data=ctl_df, ci=0)\n",
    "    plt.subplots_adjust(hspace=0.4)"
   ]
  },
  {
   "cell_type": "code",
   "execution_count": 2,
   "metadata": {
    "collapsed": true
   },
   "outputs": [],
   "source": [
    "# Load the data\n",
    "df = pd.read_csv(\"Oakley(2016)RMETforEMR.csv\", sep=\";\")\n",
    "\n",
    "# Calculate MASC-Emotion from MASC-Total and MASC-Cognitive\n",
    "df[\"MASC_Emotion\"] = df[\"MASC_Total\"] - df[\"MASC_Cognitive\"]"
   ]
  },
  {
   "cell_type": "markdown",
   "metadata": {},
   "source": [
    "To test the interaction between TAS and group, we fit linear models for the following dependent variables:\n",
    "- RMET-Total\n",
    "- MASC-Cognitive\n",
    "- MASC-Emotion\n",
    "- MASC-Total\n",
    "\n",
    "As independent variables we include group (ASD/control), TAS, gender, and the interaction term between group and TAS"
   ]
  },
  {
   "cell_type": "code",
   "execution_count": 3,
   "metadata": {},
   "outputs": [
    {
     "name": "stdout",
     "output_type": "stream",
     "text": [
      "Results for RMET:\n"
     ]
    },
    {
     "data": {
      "text/html": [
       "<div>\n",
       "<style scoped>\n",
       "    .dataframe tbody tr th:only-of-type {\n",
       "        vertical-align: middle;\n",
       "    }\n",
       "\n",
       "    .dataframe tbody tr th {\n",
       "        vertical-align: top;\n",
       "    }\n",
       "\n",
       "    .dataframe thead th {\n",
       "        text-align: right;\n",
       "    }\n",
       "</style>\n",
       "<table border=\"1\" class=\"dataframe\">\n",
       "  <thead>\n",
       "    <tr style=\"text-align: right;\">\n",
       "      <th></th>\n",
       "      <th>coef</th>\n",
       "      <th>sum_sq</th>\n",
       "      <th>df</th>\n",
       "      <th>p</th>\n",
       "    </tr>\n",
       "  </thead>\n",
       "  <tbody>\n",
       "    <tr>\n",
       "      <td>TAS_Total</td>\n",
       "      <td>-0.072014</td>\n",
       "      <td>51.77025</td>\n",
       "      <td>1.0</td>\n",
       "      <td>0.03301</td>\n",
       "    </tr>\n",
       "    <tr>\n",
       "      <td>ASD_Control</td>\n",
       "      <td>3.194236</td>\n",
       "      <td>0.08707</td>\n",
       "      <td>1.0</td>\n",
       "      <td>0.92812</td>\n",
       "    </tr>\n",
       "    <tr>\n",
       "      <td>Gender</td>\n",
       "      <td>-0.131337</td>\n",
       "      <td>0.15043</td>\n",
       "      <td>1.0</td>\n",
       "      <td>0.90561</td>\n",
       "    </tr>\n",
       "    <tr>\n",
       "      <td>ASD_Control:TAS_Total</td>\n",
       "      <td>-0.055375</td>\n",
       "      <td>4.68794</td>\n",
       "      <td>1.0</td>\n",
       "      <td>0.50924</td>\n",
       "    </tr>\n",
       "    <tr>\n",
       "      <td>Residual</td>\n",
       "      <td>NaN</td>\n",
       "      <td>390.48596</td>\n",
       "      <td>37.0</td>\n",
       "      <td>NaN</td>\n",
       "    </tr>\n",
       "  </tbody>\n",
       "</table>\n",
       "</div>"
      ],
      "text/plain": [
       "                           coef     sum_sq    df        p\n",
       "TAS_Total             -0.072014   51.77025   1.0  0.03301\n",
       "ASD_Control            3.194236    0.08707   1.0  0.92812\n",
       "Gender                -0.131337    0.15043   1.0  0.90561\n",
       "ASD_Control:TAS_Total -0.055375    4.68794   1.0  0.50924\n",
       "Residual                    NaN  390.48596  37.0      NaN"
      ]
     },
     "execution_count": 3,
     "metadata": {},
     "output_type": "execute_result"
    }
   ],
   "source": [
    "# RMET\n",
    "model = smf.ols(\n",
    "    \"RMET_Total ~ TAS_Total + ASD_Control + Gender + ASD_Control:TAS_Total\", data=df\n",
    ").fit()\n",
    "print(\"Results for RMET:\")\n",
    "summarize_model(model)"
   ]
  },
  {
   "cell_type": "markdown",
   "metadata": {},
   "source": [
    "We see that the interaction effect is not significant. The main effect of TAS is significant."
   ]
  },
  {
   "cell_type": "code",
   "execution_count": 4,
   "metadata": {},
   "outputs": [
    {
     "name": "stdout",
     "output_type": "stream",
     "text": [
      "Results for MASC-Cognitive:\n"
     ]
    },
    {
     "data": {
      "text/html": [
       "<div>\n",
       "<style scoped>\n",
       "    .dataframe tbody tr th:only-of-type {\n",
       "        vertical-align: middle;\n",
       "    }\n",
       "\n",
       "    .dataframe tbody tr th {\n",
       "        vertical-align: top;\n",
       "    }\n",
       "\n",
       "    .dataframe thead th {\n",
       "        text-align: right;\n",
       "    }\n",
       "</style>\n",
       "<table border=\"1\" class=\"dataframe\">\n",
       "  <thead>\n",
       "    <tr style=\"text-align: right;\">\n",
       "      <th></th>\n",
       "      <th>coef</th>\n",
       "      <th>sum_sq</th>\n",
       "      <th>df</th>\n",
       "      <th>p</th>\n",
       "    </tr>\n",
       "  </thead>\n",
       "  <tbody>\n",
       "    <tr>\n",
       "      <td>TAS_Total</td>\n",
       "      <td>-0.051138</td>\n",
       "      <td>0.43714</td>\n",
       "      <td>1.0</td>\n",
       "      <td>0.79560</td>\n",
       "    </tr>\n",
       "    <tr>\n",
       "      <td>ASD_Control</td>\n",
       "      <td>-12.366478</td>\n",
       "      <td>61.06386</td>\n",
       "      <td>1.0</td>\n",
       "      <td>0.00391</td>\n",
       "    </tr>\n",
       "    <tr>\n",
       "      <td>Gender</td>\n",
       "      <td>1.491953</td>\n",
       "      <td>19.35366</td>\n",
       "      <td>1.0</td>\n",
       "      <td>0.09104</td>\n",
       "    </tr>\n",
       "    <tr>\n",
       "      <td>ASD_Control:TAS_Total</td>\n",
       "      <td>0.173520</td>\n",
       "      <td>45.09155</td>\n",
       "      <td>1.0</td>\n",
       "      <td>0.01187</td>\n",
       "    </tr>\n",
       "    <tr>\n",
       "      <td>Residual</td>\n",
       "      <td>NaN</td>\n",
       "      <td>231.07322</td>\n",
       "      <td>36.0</td>\n",
       "      <td>NaN</td>\n",
       "    </tr>\n",
       "  </tbody>\n",
       "</table>\n",
       "</div>"
      ],
      "text/plain": [
       "                            coef     sum_sq    df        p\n",
       "TAS_Total              -0.051138    0.43714   1.0  0.79560\n",
       "ASD_Control           -12.366478   61.06386   1.0  0.00391\n",
       "Gender                  1.491953   19.35366   1.0  0.09104\n",
       "ASD_Control:TAS_Total   0.173520   45.09155   1.0  0.01187\n",
       "Residual                     NaN  231.07322  36.0      NaN"
      ]
     },
     "execution_count": 4,
     "metadata": {},
     "output_type": "execute_result"
    }
   ],
   "source": [
    "# MASC-Cognitive\n",
    "model = smf.ols(\n",
    "    \"MASC_Cognitive ~ TAS_Total + ASD_Control + Gender + ASD_Control:TAS_Total\",\n",
    "    data=df[df[\"mv_outlier\"] == 0]\n",
    ").fit()\n",
    "print(\"Results for MASC-Cognitive:\")\n",
    "summarize_model(model)"
   ]
  },
  {
   "cell_type": "markdown",
   "metadata": {},
   "source": [
    "We see that the interaction effect is significant."
   ]
  },
  {
   "cell_type": "code",
   "execution_count": 5,
   "metadata": {},
   "outputs": [
    {
     "name": "stdout",
     "output_type": "stream",
     "text": [
      "Results for MASC-Emotion:\n"
     ]
    },
    {
     "data": {
      "text/html": [
       "<div>\n",
       "<style scoped>\n",
       "    .dataframe tbody tr th:only-of-type {\n",
       "        vertical-align: middle;\n",
       "    }\n",
       "\n",
       "    .dataframe tbody tr th {\n",
       "        vertical-align: top;\n",
       "    }\n",
       "\n",
       "    .dataframe thead th {\n",
       "        text-align: right;\n",
       "    }\n",
       "</style>\n",
       "<table border=\"1\" class=\"dataframe\">\n",
       "  <thead>\n",
       "    <tr style=\"text-align: right;\">\n",
       "      <th></th>\n",
       "      <th>coef</th>\n",
       "      <th>sum_sq</th>\n",
       "      <th>df</th>\n",
       "      <th>p</th>\n",
       "    </tr>\n",
       "  </thead>\n",
       "  <tbody>\n",
       "    <tr>\n",
       "      <td>TAS_Total</td>\n",
       "      <td>-0.035316</td>\n",
       "      <td>3.21465</td>\n",
       "      <td>1.0</td>\n",
       "      <td>0.37216</td>\n",
       "    </tr>\n",
       "    <tr>\n",
       "      <td>ASD_Control</td>\n",
       "      <td>-3.393869</td>\n",
       "      <td>16.43146</td>\n",
       "      <td>1.0</td>\n",
       "      <td>0.04841</td>\n",
       "    </tr>\n",
       "    <tr>\n",
       "      <td>Gender</td>\n",
       "      <td>0.543761</td>\n",
       "      <td>2.57080</td>\n",
       "      <td>1.0</td>\n",
       "      <td>0.42431</td>\n",
       "    </tr>\n",
       "    <tr>\n",
       "      <td>ASD_Control:TAS_Total</td>\n",
       "      <td>0.036296</td>\n",
       "      <td>1.97294</td>\n",
       "      <td>1.0</td>\n",
       "      <td>0.48352</td>\n",
       "    </tr>\n",
       "    <tr>\n",
       "      <td>Residual</td>\n",
       "      <td>NaN</td>\n",
       "      <td>141.70520</td>\n",
       "      <td>36.0</td>\n",
       "      <td>NaN</td>\n",
       "    </tr>\n",
       "  </tbody>\n",
       "</table>\n",
       "</div>"
      ],
      "text/plain": [
       "                           coef     sum_sq    df        p\n",
       "TAS_Total             -0.035316    3.21465   1.0  0.37216\n",
       "ASD_Control           -3.393869   16.43146   1.0  0.04841\n",
       "Gender                 0.543761    2.57080   1.0  0.42431\n",
       "ASD_Control:TAS_Total  0.036296    1.97294   1.0  0.48352\n",
       "Residual                    NaN  141.70520  36.0      NaN"
      ]
     },
     "execution_count": 5,
     "metadata": {},
     "output_type": "execute_result"
    }
   ],
   "source": [
    "# MASC-Emotion\n",
    "model = smf.ols(\n",
    "    \"MASC_Emotion ~ TAS_Total + ASD_Control + Gender + ASD_Control:TAS_Total\",\n",
    "    data=df[df[\"mv_outlier\"] == 0]\n",
    ").fit()\n",
    "print(\"Results for MASC-Emotion:\")\n",
    "summarize_model(model)"
   ]
  },
  {
   "cell_type": "markdown",
   "metadata": {},
   "source": [
    "We see that the interaction effect is not significant."
   ]
  },
  {
   "cell_type": "code",
   "execution_count": 6,
   "metadata": {},
   "outputs": [
    {
     "name": "stdout",
     "output_type": "stream",
     "text": [
      "Results for MASC-Total:\n"
     ]
    },
    {
     "data": {
      "text/html": [
       "<div>\n",
       "<style scoped>\n",
       "    .dataframe tbody tr th:only-of-type {\n",
       "        vertical-align: middle;\n",
       "    }\n",
       "\n",
       "    .dataframe tbody tr th {\n",
       "        vertical-align: top;\n",
       "    }\n",
       "\n",
       "    .dataframe thead th {\n",
       "        text-align: right;\n",
       "    }\n",
       "</style>\n",
       "<table border=\"1\" class=\"dataframe\">\n",
       "  <thead>\n",
       "    <tr style=\"text-align: right;\">\n",
       "      <th></th>\n",
       "      <th>coef</th>\n",
       "      <th>sum_sq</th>\n",
       "      <th>df</th>\n",
       "      <th>p</th>\n",
       "    </tr>\n",
       "  </thead>\n",
       "  <tbody>\n",
       "    <tr>\n",
       "      <td>TAS_Total</td>\n",
       "      <td>-0.086454</td>\n",
       "      <td>1.28093</td>\n",
       "      <td>1.0</td>\n",
       "      <td>0.76154</td>\n",
       "    </tr>\n",
       "    <tr>\n",
       "      <td>ASD_Control</td>\n",
       "      <td>-15.760348</td>\n",
       "      <td>140.84731</td>\n",
       "      <td>1.0</td>\n",
       "      <td>0.00282</td>\n",
       "    </tr>\n",
       "    <tr>\n",
       "      <td>Gender</td>\n",
       "      <td>2.035714</td>\n",
       "      <td>36.03184</td>\n",
       "      <td>1.0</td>\n",
       "      <td>0.11358</td>\n",
       "    </tr>\n",
       "    <tr>\n",
       "      <td>ASD_Control:TAS_Total</td>\n",
       "      <td>0.209816</td>\n",
       "      <td>65.92852</td>\n",
       "      <td>1.0</td>\n",
       "      <td>0.03480</td>\n",
       "    </tr>\n",
       "    <tr>\n",
       "      <td>Residual</td>\n",
       "      <td>NaN</td>\n",
       "      <td>493.19459</td>\n",
       "      <td>36.0</td>\n",
       "      <td>NaN</td>\n",
       "    </tr>\n",
       "  </tbody>\n",
       "</table>\n",
       "</div>"
      ],
      "text/plain": [
       "                            coef     sum_sq    df        p\n",
       "TAS_Total              -0.086454    1.28093   1.0  0.76154\n",
       "ASD_Control           -15.760348  140.84731   1.0  0.00282\n",
       "Gender                  2.035714   36.03184   1.0  0.11358\n",
       "ASD_Control:TAS_Total   0.209816   65.92852   1.0  0.03480\n",
       "Residual                     NaN  493.19459  36.0      NaN"
      ]
     },
     "execution_count": 6,
     "metadata": {},
     "output_type": "execute_result"
    }
   ],
   "source": [
    "# MASC-Total\n",
    "model = smf.ols(\n",
    "    \"MASC_Total ~ TAS_Total + ASD_Control + Gender + ASD_Control:TAS_Total\",\n",
    "    data=df[df[\"mv_outlier\"] == 0]\n",
    ").fit()\n",
    "print(\"Results for MASC-Total:\")\n",
    "summarize_model(model)"
   ]
  },
  {
   "cell_type": "markdown",
   "metadata": {},
   "source": [
    "We see that the interaction effect is significant."
   ]
  },
  {
   "cell_type": "markdown",
   "metadata": {},
   "source": [
    "For RMET there was no significant interaction effect of group and TAS. Thus the effect of alexithymia on RMET is not different for the two groups, and the independent analyses of the effects of autism and alexithymia, as done in Oakley et al (2016) is valid."
   ]
  },
  {
   "cell_type": "markdown",
   "metadata": {},
   "source": [
    "For both MASC-Total and MASC-Cognitive, the interaction between group and TAS was significant. This means that it is not meaningful to simply examine the main effects of autism and alexithymia on MASC scores. Instead, separate analyses of the effects of TAS on MASC should be performed for the two groups.\n",
    "\n",
    "For MASC-Emotion the interaction was not significant. Since MASC-Total is merely the sum of MASC-Cognitive and MASC-Emotion, we will focus on analysing the effects of TAS on MASC-Cognitive in the autism and control groups, respectively."
   ]
  },
  {
   "cell_type": "code",
   "execution_count": 7,
   "metadata": {
    "collapsed": true
   },
   "outputs": [],
   "source": [
    "# Separate the data into the two groups and exclude the outlier (as detected and flagged by Oakley et al. (2016))\n",
    "asd_df = df[(df[\"ASD_Control\"] == 1) & (df[\"mv_outlier\"] == 0)]\n",
    "ctl_df = df[(df[\"ASD_Control\"] == 0) & (df[\"mv_outlier\"] == 0)]"
   ]
  },
  {
   "cell_type": "markdown",
   "metadata": {},
   "source": [
    "### Control group"
   ]
  },
  {
   "cell_type": "markdown",
   "metadata": {},
   "source": [
    "We start by investigating the effects of TAS on MASC-Cognitive in the control group."
   ]
  },
  {
   "cell_type": "code",
   "execution_count": 8,
   "metadata": {},
   "outputs": [
    {
     "name": "stdout",
     "output_type": "stream",
     "text": [
      "Regression results for MASC-Cognitive in the control group:\n"
     ]
    },
    {
     "data": {
      "text/html": [
       "<div>\n",
       "<style scoped>\n",
       "    .dataframe tbody tr th:only-of-type {\n",
       "        vertical-align: middle;\n",
       "    }\n",
       "\n",
       "    .dataframe tbody tr th {\n",
       "        vertical-align: top;\n",
       "    }\n",
       "\n",
       "    .dataframe thead th {\n",
       "        text-align: right;\n",
       "    }\n",
       "</style>\n",
       "<table border=\"1\" class=\"dataframe\">\n",
       "  <thead>\n",
       "    <tr style=\"text-align: right;\">\n",
       "      <th></th>\n",
       "      <th>coef</th>\n",
       "      <th>sum_sq</th>\n",
       "      <th>df</th>\n",
       "      <th>p</th>\n",
       "    </tr>\n",
       "  </thead>\n",
       "  <tbody>\n",
       "    <tr>\n",
       "      <td>Gender</td>\n",
       "      <td>2.578801</td>\n",
       "      <td>35.00490</td>\n",
       "      <td>1.0</td>\n",
       "      <td>0.00367</td>\n",
       "    </tr>\n",
       "    <tr>\n",
       "      <td>AQ_Total</td>\n",
       "      <td>-0.082124</td>\n",
       "      <td>11.20444</td>\n",
       "      <td>1.0</td>\n",
       "      <td>0.07651</td>\n",
       "    </tr>\n",
       "    <tr>\n",
       "      <td>TAS_Total</td>\n",
       "      <td>-0.021335</td>\n",
       "      <td>1.23306</td>\n",
       "      <td>1.0</td>\n",
       "      <td>0.54172</td>\n",
       "    </tr>\n",
       "    <tr>\n",
       "      <td>Residual</td>\n",
       "      <td>NaN</td>\n",
       "      <td>60.67170</td>\n",
       "      <td>19.0</td>\n",
       "      <td>NaN</td>\n",
       "    </tr>\n",
       "  </tbody>\n",
       "</table>\n",
       "</div>"
      ],
      "text/plain": [
       "               coef    sum_sq    df        p\n",
       "Gender     2.578801  35.00490   1.0  0.00367\n",
       "AQ_Total  -0.082124  11.20444   1.0  0.07651\n",
       "TAS_Total -0.021335   1.23306   1.0  0.54172\n",
       "Residual        NaN  60.67170  19.0      NaN"
      ]
     },
     "execution_count": 8,
     "metadata": {},
     "output_type": "execute_result"
    }
   ],
   "source": [
    "model = smf.ols(\"MASC_Cognitive ~ Gender + AQ_Total + TAS_Total\", data=ctl_df).fit()\n",
    "print(\"Regression results for MASC-Cognitive in the control group:\")\n",
    "summarize_model(model)"
   ]
  },
  {
   "cell_type": "markdown",
   "metadata": {},
   "source": [
    "P-values are calculated using Type 2 Sum of Squares, and thus quantify the significance of one variable in the presence of all the other variables.\n",
    "\n",
    "Here we see that there is a significant effect of gender. The effects of TAS and AQ are not significant, although AQ is close to the 0.05 significance threshold. Instead of drawing final conclusions based only on p-values like those above, it is relevant to examine the data further.\n",
    "\n",
    "For example, it is relevant to look at the estimated coefficients for the variables (in the 'coef' column). For AQ there is an estimated negative effect on MASC, meaning that individuals with more autism traits tend to score lower on the MASC-Cognitive. This is consistent with what one would expect, given that impairments in theory of mind is an often cited characteristic of autistic people. TAS is also estimated to correlate negatively with MASC-Cognitive.\n",
    "\n",
    "Before drawing inference based on regression results it is also relevant to check for correlations between the indepdenent variables."
   ]
  },
  {
   "cell_type": "code",
   "execution_count": 9,
   "metadata": {},
   "outputs": [
    {
     "name": "stdout",
     "output_type": "stream",
     "text": [
      "Pairwise Pearson correlation coefficients between Gender, AQ and TAS in the control group:\n"
     ]
    },
    {
     "data": {
      "text/html": [
       "<div>\n",
       "<style scoped>\n",
       "    .dataframe tbody tr th:only-of-type {\n",
       "        vertical-align: middle;\n",
       "    }\n",
       "\n",
       "    .dataframe tbody tr th {\n",
       "        vertical-align: top;\n",
       "    }\n",
       "\n",
       "    .dataframe thead th {\n",
       "        text-align: right;\n",
       "    }\n",
       "</style>\n",
       "<table border=\"1\" class=\"dataframe\">\n",
       "  <thead>\n",
       "    <tr style=\"text-align: right;\">\n",
       "      <th></th>\n",
       "      <th>Gender</th>\n",
       "      <th>AQ_Total</th>\n",
       "      <th>TAS_Total</th>\n",
       "    </tr>\n",
       "  </thead>\n",
       "  <tbody>\n",
       "    <tr>\n",
       "      <td>Gender</td>\n",
       "      <td>1.000000</td>\n",
       "      <td>0.273299</td>\n",
       "      <td>0.236922</td>\n",
       "    </tr>\n",
       "    <tr>\n",
       "      <td>AQ_Total</td>\n",
       "      <td>0.273299</td>\n",
       "      <td>1.000000</td>\n",
       "      <td>0.603646</td>\n",
       "    </tr>\n",
       "    <tr>\n",
       "      <td>TAS_Total</td>\n",
       "      <td>0.236922</td>\n",
       "      <td>0.603646</td>\n",
       "      <td>1.000000</td>\n",
       "    </tr>\n",
       "  </tbody>\n",
       "</table>\n",
       "</div>"
      ],
      "text/plain": [
       "             Gender  AQ_Total  TAS_Total\n",
       "Gender     1.000000  0.273299   0.236922\n",
       "AQ_Total   0.273299  1.000000   0.603646\n",
       "TAS_Total  0.236922  0.603646   1.000000"
      ]
     },
     "execution_count": 9,
     "metadata": {},
     "output_type": "execute_result"
    }
   ],
   "source": [
    "print(\"Pairwise Pearson correlation coefficients between Gender, AQ and TAS in the control group:\")\n",
    "ctl_df[[\"Gender\", \"AQ_Total\", \"TAS_Total\"]].corr()"
   ]
  },
  {
   "cell_type": "markdown",
   "metadata": {},
   "source": [
    "We see positive correlations between Gender, AQ and TAS; particularly between AQ and TAS. This means that individuals in the control group with a high degree of autism traits also tend to have a high degree of alxithymia traits, and it is possible that the effects of the two variables become conflated. This is consistent with the fact that both variables have estimated negative effects on MASC-Cognitive. Such a situation can also lead to reduced power to detect the effects of one variable while controlling for the other, and make it difficult to judge which of the two variables might have a causal relationship with MASC-Cognitive.\n",
    "\n",
    "The fact that the estimated effect of AQ is larger than the estimated effect of TAS could suggest that AQ has a causal effect on MASC-Cognitive, while TAS correlates with MASC-Cognitive only through its correlation with AQ. This is also supported by performing the analysis again while leaving each of the two variables out"
   ]
  },
  {
   "cell_type": "code",
   "execution_count": 10,
   "metadata": {},
   "outputs": [
    {
     "name": "stdout",
     "output_type": "stream",
     "text": [
      "Analysis of gender and AQ without controlling for TAS\n"
     ]
    },
    {
     "data": {
      "text/html": [
       "<div>\n",
       "<style scoped>\n",
       "    .dataframe tbody tr th:only-of-type {\n",
       "        vertical-align: middle;\n",
       "    }\n",
       "\n",
       "    .dataframe tbody tr th {\n",
       "        vertical-align: top;\n",
       "    }\n",
       "\n",
       "    .dataframe thead th {\n",
       "        text-align: right;\n",
       "    }\n",
       "</style>\n",
       "<table border=\"1\" class=\"dataframe\">\n",
       "  <thead>\n",
       "    <tr style=\"text-align: right;\">\n",
       "      <th></th>\n",
       "      <th>coef</th>\n",
       "      <th>sum_sq</th>\n",
       "      <th>df</th>\n",
       "      <th>p</th>\n",
       "    </tr>\n",
       "  </thead>\n",
       "  <tbody>\n",
       "    <tr>\n",
       "      <td>Gender</td>\n",
       "      <td>2.533395</td>\n",
       "      <td>34.08302</td>\n",
       "      <td>1.0</td>\n",
       "      <td>0.00343</td>\n",
       "    </tr>\n",
       "    <tr>\n",
       "      <td>AQ_Total</td>\n",
       "      <td>-0.097834</td>\n",
       "      <td>23.82251</td>\n",
       "      <td>1.0</td>\n",
       "      <td>0.01170</td>\n",
       "    </tr>\n",
       "    <tr>\n",
       "      <td>Residual</td>\n",
       "      <td>NaN</td>\n",
       "      <td>61.90476</td>\n",
       "      <td>20.0</td>\n",
       "      <td>NaN</td>\n",
       "    </tr>\n",
       "  </tbody>\n",
       "</table>\n",
       "</div>"
      ],
      "text/plain": [
       "              coef    sum_sq    df        p\n",
       "Gender    2.533395  34.08302   1.0  0.00343\n",
       "AQ_Total -0.097834  23.82251   1.0  0.01170\n",
       "Residual       NaN  61.90476  20.0      NaN"
      ]
     },
     "execution_count": 10,
     "metadata": {},
     "output_type": "execute_result"
    }
   ],
   "source": [
    "model = smf.ols(\"MASC_Cognitive ~ Gender + AQ_Total\", data=ctl_df).fit()\n",
    "print(\"Analysis of gender and AQ without controlling for TAS\")\n",
    "summarize_model(model)"
   ]
  },
  {
   "cell_type": "code",
   "execution_count": 11,
   "metadata": {},
   "outputs": [
    {
     "name": "stdout",
     "output_type": "stream",
     "text": [
      "Analysis for Gender and TAS without controlling for AQ\n"
     ]
    },
    {
     "data": {
      "text/html": [
       "<div>\n",
       "<style scoped>\n",
       "    .dataframe tbody tr th:only-of-type {\n",
       "        vertical-align: middle;\n",
       "    }\n",
       "\n",
       "    .dataframe tbody tr th {\n",
       "        vertical-align: top;\n",
       "    }\n",
       "\n",
       "    .dataframe thead th {\n",
       "        text-align: right;\n",
       "    }\n",
       "</style>\n",
       "<table border=\"1\" class=\"dataframe\">\n",
       "  <thead>\n",
       "    <tr style=\"text-align: right;\">\n",
       "      <th></th>\n",
       "      <th>coef</th>\n",
       "      <th>sum_sq</th>\n",
       "      <th>df</th>\n",
       "      <th>p</th>\n",
       "    </tr>\n",
       "  </thead>\n",
       "  <tbody>\n",
       "    <tr>\n",
       "      <td>Gender</td>\n",
       "      <td>2.333398</td>\n",
       "      <td>29.49408</td>\n",
       "      <td>1.0</td>\n",
       "      <td>0.00958</td>\n",
       "    </tr>\n",
       "    <tr>\n",
       "      <td>TAS_Total</td>\n",
       "      <td>-0.058421</td>\n",
       "      <td>13.85113</td>\n",
       "      <td>1.0</td>\n",
       "      <td>0.06368</td>\n",
       "    </tr>\n",
       "    <tr>\n",
       "      <td>Residual</td>\n",
       "      <td>NaN</td>\n",
       "      <td>71.87614</td>\n",
       "      <td>20.0</td>\n",
       "      <td>NaN</td>\n",
       "    </tr>\n",
       "  </tbody>\n",
       "</table>\n",
       "</div>"
      ],
      "text/plain": [
       "               coef    sum_sq    df        p\n",
       "Gender     2.333398  29.49408   1.0  0.00958\n",
       "TAS_Total -0.058421  13.85113   1.0  0.06368\n",
       "Residual        NaN  71.87614  20.0      NaN"
      ]
     },
     "execution_count": 11,
     "metadata": {},
     "output_type": "execute_result"
    }
   ],
   "source": [
    "model = smf.ols(\"MASC_Cognitive ~ Gender + TAS_Total\", data=ctl_df).fit()\n",
    "print(\"Analysis for Gender and TAS without controlling for AQ\")\n",
    "summarize_model(model)"
   ]
  },
  {
   "cell_type": "markdown",
   "metadata": {},
   "source": [
    "Again we see that AQ seems to have a stronger correlation with MASC-Cognitive than TAS does. This is in agreement with the theoretical expectation for autism traits to affect cognitive theory of mind.\n",
    "\n",
    "It is thus reasonable to hypothesize that, within the control group, MASC-Cogntive is affected by autism traits (AQ), which also causes TAS to correlate with MASC-Cognitive, due to the correlation between AQ and TAS."
   ]
  },
  {
   "cell_type": "markdown",
   "metadata": {},
   "source": [
    "### Autism group"
   ]
  },
  {
   "cell_type": "markdown",
   "metadata": {},
   "source": [
    "We then investigate the effects of TAS on MASC-Cognitive in the autism group."
   ]
  },
  {
   "cell_type": "code",
   "execution_count": 12,
   "metadata": {},
   "outputs": [
    {
     "name": "stdout",
     "output_type": "stream",
     "text": [
      "Regression results for MASC-Cognitive in the autism group:\n"
     ]
    },
    {
     "data": {
      "text/html": [
       "<div>\n",
       "<style scoped>\n",
       "    .dataframe tbody tr th:only-of-type {\n",
       "        vertical-align: middle;\n",
       "    }\n",
       "\n",
       "    .dataframe tbody tr th {\n",
       "        vertical-align: top;\n",
       "    }\n",
       "\n",
       "    .dataframe thead th {\n",
       "        text-align: right;\n",
       "    }\n",
       "</style>\n",
       "<table border=\"1\" class=\"dataframe\">\n",
       "  <thead>\n",
       "    <tr style=\"text-align: right;\">\n",
       "      <th></th>\n",
       "      <th>coef</th>\n",
       "      <th>sum_sq</th>\n",
       "      <th>df</th>\n",
       "      <th>p</th>\n",
       "    </tr>\n",
       "  </thead>\n",
       "  <tbody>\n",
       "    <tr>\n",
       "      <td>Gender</td>\n",
       "      <td>0.088496</td>\n",
       "      <td>0.02566</td>\n",
       "      <td>1.0</td>\n",
       "      <td>0.96139</td>\n",
       "    </tr>\n",
       "    <tr>\n",
       "      <td>AQ_Total</td>\n",
       "      <td>0.029785</td>\n",
       "      <td>1.16350</td>\n",
       "      <td>1.0</td>\n",
       "      <td>0.74487</td>\n",
       "    </tr>\n",
       "    <tr>\n",
       "      <td>TAS_Total</td>\n",
       "      <td>0.131525</td>\n",
       "      <td>32.80013</td>\n",
       "      <td>1.0</td>\n",
       "      <td>0.09983</td>\n",
       "    </tr>\n",
       "    <tr>\n",
       "      <td>Residual</td>\n",
       "      <td>NaN</td>\n",
       "      <td>147.85953</td>\n",
       "      <td>14.0</td>\n",
       "      <td>NaN</td>\n",
       "    </tr>\n",
       "  </tbody>\n",
       "</table>\n",
       "</div>"
      ],
      "text/plain": [
       "               coef     sum_sq    df        p\n",
       "Gender     0.088496    0.02566   1.0  0.96139\n",
       "AQ_Total   0.029785    1.16350   1.0  0.74487\n",
       "TAS_Total  0.131525   32.80013   1.0  0.09983\n",
       "Residual        NaN  147.85953  14.0      NaN"
      ]
     },
     "execution_count": 12,
     "metadata": {},
     "output_type": "execute_result"
    }
   ],
   "source": [
    "model = smf.ols(\"MASC_Cognitive ~ Gender + AQ_Total + TAS_Total\", data=asd_df).fit()\n",
    "print(\"Regression results for MASC-Cognitive in the autism group:\")\n",
    "summarize_model(model)"
   ]
  },
  {
   "cell_type": "markdown",
   "metadata": {},
   "source": [
    "P-values are calculated using Type 2 Sum of Squares, and thus quantify the significance of one variable in the presence of all the other variables.\n",
    "\n",
    "We see that no single variable among Gender, AQ or TAS is significant while controlling for the other two. As for the control group however, we need to further examine the data before drawing conclusions. "
   ]
  },
  {
   "cell_type": "code",
   "execution_count": 1,
   "metadata": {},
   "outputs": [],
   "source": [
    "#plot_correlations()"
   ]
  },
  {
   "cell_type": "markdown",
   "metadata": {},
   "source": [
    "The plots above show the correlations between TAS and MASC-Cognitive (top row) and between AQ and MASC_Cognitive (bottom row) for the autism group (left) and the control group (right). The first thing to notice is that in contrast to the control group, both AQ and TAS correlate _positively_ with MASC-Cognitive in the autism group, i.e. individuals with higher AQ or TAS score tend to perform _better_ on the cognitive theory of mind task, MASC-Cognitive. This is also seen from the positive estimated regression coefficients in the regression analysis above."
   ]
  },
  {
   "cell_type": "markdown",
   "metadata": {},
   "source": [
    "We can also look at the correlations between the three variables."
   ]
  },
  {
   "cell_type": "code",
   "execution_count": 14,
   "metadata": {},
   "outputs": [
    {
     "name": "stdout",
     "output_type": "stream",
     "text": [
      "Pairwise Pearson correlation coefficients between Gender, AQ and TAS in the autism group:\n"
     ]
    },
    {
     "data": {
      "text/html": [
       "<div>\n",
       "<style scoped>\n",
       "    .dataframe tbody tr th:only-of-type {\n",
       "        vertical-align: middle;\n",
       "    }\n",
       "\n",
       "    .dataframe tbody tr th {\n",
       "        vertical-align: top;\n",
       "    }\n",
       "\n",
       "    .dataframe thead th {\n",
       "        text-align: right;\n",
       "    }\n",
       "</style>\n",
       "<table border=\"1\" class=\"dataframe\">\n",
       "  <thead>\n",
       "    <tr style=\"text-align: right;\">\n",
       "      <th></th>\n",
       "      <th>Gender</th>\n",
       "      <th>AQ_Total</th>\n",
       "      <th>TAS_Total</th>\n",
       "    </tr>\n",
       "  </thead>\n",
       "  <tbody>\n",
       "    <tr>\n",
       "      <td>Gender</td>\n",
       "      <td>1.000000</td>\n",
       "      <td>0.118286</td>\n",
       "      <td>0.303863</td>\n",
       "    </tr>\n",
       "    <tr>\n",
       "      <td>AQ_Total</td>\n",
       "      <td>0.118286</td>\n",
       "      <td>1.000000</td>\n",
       "      <td>0.325529</td>\n",
       "    </tr>\n",
       "    <tr>\n",
       "      <td>TAS_Total</td>\n",
       "      <td>0.303863</td>\n",
       "      <td>0.325529</td>\n",
       "      <td>1.000000</td>\n",
       "    </tr>\n",
       "  </tbody>\n",
       "</table>\n",
       "</div>"
      ],
      "text/plain": [
       "             Gender  AQ_Total  TAS_Total\n",
       "Gender     1.000000  0.118286   0.303863\n",
       "AQ_Total   0.118286  1.000000   0.325529\n",
       "TAS_Total  0.303863  0.325529   1.000000"
      ]
     },
     "execution_count": 14,
     "metadata": {},
     "output_type": "execute_result"
    }
   ],
   "source": [
    "print(\"Pairwise Pearson correlation coefficients between Gender, AQ and TAS in the autism group:\")\n",
    "asd_df[[\"Gender\", \"AQ_Total\", \"TAS_Total\"]].corr()"
   ]
  },
  {
   "cell_type": "markdown",
   "metadata": {},
   "source": [
    "As for the control group we see positive correlations between all three variables. It is thus possible that a real effect of one of the variables on MASC-Cognitive becomes partly diffused onto the other variables, reducing the statistical power to detect the effect when controlling for the other variables.\n",
    "\n",
    "As we saw above, the amount of autistic traits measured by AQ now correlates positively with MASC-Cognitive, which is contrary to what theory would predict. It is thus unlikely that there is a causal positive relationship between AQ and MASC-Cognitive, and including it in the regression model is not meaningful."
   ]
  },
  {
   "cell_type": "code",
   "execution_count": 15,
   "metadata": {},
   "outputs": [
    {
     "name": "stdout",
     "output_type": "stream",
     "text": [
      "Analysis for Gender and TAS without controlling for AQ\n"
     ]
    },
    {
     "data": {
      "text/html": [
       "<div>\n",
       "<style scoped>\n",
       "    .dataframe tbody tr th:only-of-type {\n",
       "        vertical-align: middle;\n",
       "    }\n",
       "\n",
       "    .dataframe tbody tr th {\n",
       "        vertical-align: top;\n",
       "    }\n",
       "\n",
       "    .dataframe thead th {\n",
       "        text-align: right;\n",
       "    }\n",
       "</style>\n",
       "<table border=\"1\" class=\"dataframe\">\n",
       "  <thead>\n",
       "    <tr style=\"text-align: right;\">\n",
       "      <th></th>\n",
       "      <th>coef</th>\n",
       "      <th>sum_sq</th>\n",
       "      <th>df</th>\n",
       "      <th>p</th>\n",
       "    </tr>\n",
       "  </thead>\n",
       "  <tbody>\n",
       "    <tr>\n",
       "      <td>Gender</td>\n",
       "      <td>0.101310</td>\n",
       "      <td>0.03364</td>\n",
       "      <td>1.0</td>\n",
       "      <td>0.95436</td>\n",
       "    </tr>\n",
       "    <tr>\n",
       "      <td>TAS_Total</td>\n",
       "      <td>0.139108</td>\n",
       "      <td>40.48467</td>\n",
       "      <td>1.0</td>\n",
       "      <td>0.06177</td>\n",
       "    </tr>\n",
       "    <tr>\n",
       "      <td>Residual</td>\n",
       "      <td>NaN</td>\n",
       "      <td>149.02302</td>\n",
       "      <td>15.0</td>\n",
       "      <td>NaN</td>\n",
       "    </tr>\n",
       "  </tbody>\n",
       "</table>\n",
       "</div>"
      ],
      "text/plain": [
       "               coef     sum_sq    df        p\n",
       "Gender     0.101310    0.03364   1.0  0.95436\n",
       "TAS_Total  0.139108   40.48467   1.0  0.06177\n",
       "Residual        NaN  149.02302  15.0      NaN"
      ]
     },
     "execution_count": 15,
     "metadata": {},
     "output_type": "execute_result"
    }
   ],
   "source": [
    "model = smf.ols(\"MASC_Cognitive ~ Gender + TAS_Total\", data=asd_df).fit()\n",
    "print(\"Analysis for Gender and TAS without controlling for AQ\")\n",
    "summarize_model(model)"
   ]
  },
  {
   "cell_type": "markdown",
   "metadata": {},
   "source": [
    "We can see that the p-value for TAS approaches the 0.05 significance threshold, while Gender is far from significant. It is also worth noting that the estimated change in MASC-Cognitive due to a single TAS-point change (0.139) is greater than the entire estimated difference betwen males and females (0.101). Since we saw that Gender and TAS are correlated with each other, it is relevant to also examine the effect of each of the variables without controlling for the other."
   ]
  },
  {
   "cell_type": "code",
   "execution_count": 16,
   "metadata": {},
   "outputs": [
    {
     "name": "stdout",
     "output_type": "stream",
     "text": [
      "Analysis for Gender without controlling for AQ and TAS\n"
     ]
    },
    {
     "data": {
      "text/html": [
       "<div>\n",
       "<style scoped>\n",
       "    .dataframe tbody tr th:only-of-type {\n",
       "        vertical-align: middle;\n",
       "    }\n",
       "\n",
       "    .dataframe tbody tr th {\n",
       "        vertical-align: top;\n",
       "    }\n",
       "\n",
       "    .dataframe thead th {\n",
       "        text-align: right;\n",
       "    }\n",
       "</style>\n",
       "<table border=\"1\" class=\"dataframe\">\n",
       "  <thead>\n",
       "    <tr style=\"text-align: right;\">\n",
       "      <th></th>\n",
       "      <th>coef</th>\n",
       "      <th>sum_sq</th>\n",
       "      <th>df</th>\n",
       "      <th>p</th>\n",
       "    </tr>\n",
       "  </thead>\n",
       "  <tbody>\n",
       "    <tr>\n",
       "      <td>Gender</td>\n",
       "      <td>1.169231</td>\n",
       "      <td>4.93675</td>\n",
       "      <td>1.0</td>\n",
       "      <td>0.52769</td>\n",
       "    </tr>\n",
       "    <tr>\n",
       "      <td>Residual</td>\n",
       "      <td>NaN</td>\n",
       "      <td>189.50769</td>\n",
       "      <td>16.0</td>\n",
       "      <td>NaN</td>\n",
       "    </tr>\n",
       "  </tbody>\n",
       "</table>\n",
       "</div>"
      ],
      "text/plain": [
       "              coef     sum_sq    df        p\n",
       "Gender    1.169231    4.93675   1.0  0.52769\n",
       "Residual       NaN  189.50769  16.0      NaN"
      ]
     },
     "execution_count": 16,
     "metadata": {},
     "output_type": "execute_result"
    }
   ],
   "source": [
    "model = smf.ols(\"MASC_Cognitive ~ Gender\", data=asd_df).fit()\n",
    "print(\"Analysis for Gender without controlling for AQ and TAS\")\n",
    "summarize_model(model)"
   ]
  },
  {
   "cell_type": "code",
   "execution_count": 17,
   "metadata": {},
   "outputs": [
    {
     "name": "stdout",
     "output_type": "stream",
     "text": [
      "Analysis for TAS without controlling for Gender and AQ\n"
     ]
    },
    {
     "data": {
      "text/html": [
       "<div>\n",
       "<style scoped>\n",
       "    .dataframe tbody tr th:only-of-type {\n",
       "        vertical-align: middle;\n",
       "    }\n",
       "\n",
       "    .dataframe tbody tr th {\n",
       "        vertical-align: top;\n",
       "    }\n",
       "\n",
       "    .dataframe thead th {\n",
       "        text-align: right;\n",
       "    }\n",
       "</style>\n",
       "<table border=\"1\" class=\"dataframe\">\n",
       "  <thead>\n",
       "    <tr style=\"text-align: right;\">\n",
       "      <th></th>\n",
       "      <th>coef</th>\n",
       "      <th>sum_sq</th>\n",
       "      <th>df</th>\n",
       "      <th>p</th>\n",
       "    </tr>\n",
       "  </thead>\n",
       "  <tbody>\n",
       "    <tr>\n",
       "      <td>TAS_Total</td>\n",
       "      <td>0.140326</td>\n",
       "      <td>45.38778</td>\n",
       "      <td>1.0</td>\n",
       "      <td>0.04225</td>\n",
       "    </tr>\n",
       "    <tr>\n",
       "      <td>Residual</td>\n",
       "      <td>NaN</td>\n",
       "      <td>149.05667</td>\n",
       "      <td>16.0</td>\n",
       "      <td>NaN</td>\n",
       "    </tr>\n",
       "  </tbody>\n",
       "</table>\n",
       "</div>"
      ],
      "text/plain": [
       "               coef     sum_sq    df        p\n",
       "TAS_Total  0.140326   45.38778   1.0  0.04225\n",
       "Residual        NaN  149.05667  16.0      NaN"
      ]
     },
     "execution_count": 17,
     "metadata": {},
     "output_type": "execute_result"
    }
   ],
   "source": [
    "model = smf.ols(\"MASC_Cognitive ~ TAS_Total\", data=asd_df).fit()\n",
    "print(\"Analysis for TAS without controlling for Gender and AQ\")\n",
    "summarize_model(model)"
   ]
  },
  {
   "cell_type": "markdown",
   "metadata": {},
   "source": [
    "We see that the effect of TAS becomes significant when Gender is not controlled for, while the effect of Gender is still far from significant even when not controlling for TAS.\n",
    "\n",
    "The sum of the above analyses shows a consistent positive correlation between alexithymia traits and cognitive theory of mind in the autism group, although the effect is somewhat attenuated when controlling for differences in gender and overall autism traits. Gender, TAS and AQ also correlate positively with each other, however AQ and Gender correlate much more weakly with MASC-Cognitive than TAS. It is quite possible that there is a real relationship between TAS and MASC-Cognitive, which is attenuated when controlling for Gender and AQ because these two variables correlate with TAS in the sample.\n",
    "\n",
    "The fact that AQ correlates _positively_ with MASC-Cognitive, in contrast to theoretical expectations and observations in the control group, also suggests that this correlation is merely driven by the collinearity between AQ and TAS."
   ]
  },
  {
   "cell_type": "markdown",
   "metadata": {},
   "source": [
    "### Summary"
   ]
  },
  {
   "cell_type": "markdown",
   "metadata": {},
   "source": [
    "The above analyses are of course exploratory as well as based on a fairly small sample, and no final conclusions can be drawn from them. However, we maintain that the data does suggest an interesting positive correlation between alexithymia traits and cognitive theory of mind specifically in the autism group. There is no obvious reason why alexithymia should directly affect cognitive theory of mind, and we do not claim that a causal relationship between them exists. Rather it is quite likely that alexithymia is a marker for a specific \"subtype\" of autism that is less impaired on cognitive theory of mind than other \"subtypes\"."
   ]
  },
  {
   "cell_type": "code",
   "execution_count": null,
   "metadata": {
    "collapsed": true
   },
   "outputs": [],
   "source": []
  }
 ],
 "metadata": {
  "kernelspec": {
   "display_name": "Python 3",
   "language": "python",
   "name": "python3"
  },
  "language_info": {
   "codemirror_mode": {
    "name": "ipython",
    "version": 3
   },
   "file_extension": ".py",
   "mimetype": "text/x-python",
   "name": "python",
   "nbconvert_exporter": "python",
   "pygments_lexer": "ipython3",
   "version": "3.6.1"
  }
 },
 "nbformat": 4,
 "nbformat_minor": 2
}
